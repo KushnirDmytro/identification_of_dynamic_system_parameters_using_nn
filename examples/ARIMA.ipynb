{
 "cells": [
  {
   "cell_type": "code",
   "execution_count": 1,
   "metadata": {},
   "outputs": [
    {
     "ename": "ModuleNotFoundError",
     "evalue": "No module named 'src'",
     "output_type": "error",
     "traceback": [
      "\u001b[0;31m---------------------------------------------------------------------------\u001b[0m",
      "\u001b[0;31mModuleNotFoundError\u001b[0m                       Traceback (most recent call last)",
      "\u001b[0;32m<ipython-input-1-f4ac25ef891e>\u001b[0m in \u001b[0;36m<module>\u001b[0;34m\u001b[0m\n\u001b[0;32m----> 1\u001b[0;31m \u001b[0;32mfrom\u001b[0m \u001b[0msrc\u001b[0m \u001b[0;32mimport\u001b[0m \u001b[0mutil\u001b[0m\u001b[0;34m\u001b[0m\u001b[0;34m\u001b[0m\u001b[0m\n\u001b[0m\u001b[1;32m      2\u001b[0m \u001b[0;32mfrom\u001b[0m \u001b[0msrc\u001b[0m \u001b[0;32mimport\u001b[0m \u001b[0meval\u001b[0m\u001b[0;34m\u001b[0m\u001b[0;34m\u001b[0m\u001b[0m\n\u001b[1;32m      3\u001b[0m \u001b[0;32mimport\u001b[0m \u001b[0mnumpy\u001b[0m \u001b[0;32mas\u001b[0m \u001b[0mnp\u001b[0m\u001b[0;34m\u001b[0m\u001b[0;34m\u001b[0m\u001b[0m\n\u001b[1;32m      4\u001b[0m \u001b[0;32mimport\u001b[0m \u001b[0mpyflux\u001b[0m \u001b[0;32mas\u001b[0m \u001b[0mpf\u001b[0m\u001b[0;34m\u001b[0m\u001b[0;34m\u001b[0m\u001b[0m\n",
      "\u001b[0;31mModuleNotFoundError\u001b[0m: No module named 'src'"
     ]
    }
   ],
   "source": [
    "from src import util\n",
    "from src import eval\n",
    "import numpy as np\n",
    "import pyflux as pf"
   ]
  },
  {
   "cell_type": "code",
   "execution_count": null,
   "metadata": {},
   "outputs": [],
   "source": [
    "p = 4\n",
    "q = 4\n",
    "h_test = 6\n",
    "\n",
    "ts, data = util.load_data(\"../data/NSW2013.csv\", columnName=\"TOTALDEMAND\")\n",
    "# ts, data = util.load_data(\"../data/bike_hour.csv\", columnName=\"cnt\")\n",
    "# ts, data = util.load_data(\"../data/TAS2016.csv\", columnName=\"TOTALDEMAND\")\n",
    "# ts, data = util.load_data(\"../data/traffic_data_in_bits.csv\", columnName=\"value\")\n",
    "# ts, data = util.load_data(\"../data/beijing_pm25.csv\", columnName=\"pm2.5\")\n",
    "# ts, data = util.load_data(\"../data/pollution.csv\", columnName=\"Ozone\")\n",
    "\n",
    "train, test = util.divideTrainTest(data)\n",
    "# train = train[:1000]\n",
    "# test = test[:14]\n",
    "print(\"train shape is\", train.shape)\n",
    "print(\"test shape is\", test.shape)\n",
    "history = [x[0] for x in train]\n",
    "predictions = []\n",
    "realTestY = []\n",
    "\n",
    "for t in range(len(test) - h_test):\n",
    "\n",
    "    model = pf.ARIMA(data=np.array(history), ar=p, ma=q, family=pf.Normal())\n",
    "    model.fit(method=\"MLE\")\n",
    "\n",
    "    output = model.predict(h_test, intervals=False)\n",
    "\n",
    "    yhat = output.values.flatten().tolist()\n",
    "\n",
    "    obs = test[t : t + h_test].flatten()\n",
    "\n",
    "    realTestY.append(obs)\n",
    "    predictions.append(yhat)\n",
    "    history.extend(test[t])\n",
    "    print(\"t:\", t+1)\n",
    "    print(\"predict:\", yhat)\n",
    "    print('expected:', obs)\n",
    "\n",
    "realTestY = np.array(realTestY).reshape(-1, h_test)\n",
    "predictions = np.array(predictions).reshape(-1, h_test)\n",
    "MAE = eval.calcMAE(realTestY, predictions)\n",
    "RMSE = eval.calcRMSE(realTestY, predictions)\n",
    "MAPE = eval.calcSMAPE(realTestY, predictions)\n",
    "print('Test MAE: %.8f' % MAE)\n",
    "print('Test RMSE: %.8f' % RMSE)\n",
    "print('Test SMAPE: %.8f' % MAPE)\n",
    "\n",
    "# plot\n",
    "# pyplot.plot(test)\n",
    "# pyplot.plot(predictions, color='red')\n",
    "# pyplot.show()"
   ]
  },
  {
   "cell_type": "code",
   "execution_count": null,
   "metadata": {},
   "outputs": [],
   "source": []
  }
 ],
 "metadata": {
  "kernelspec": {
   "display_name": "Python 3",
   "language": "python",
   "name": "python3"
  },
  "language_info": {
   "codemirror_mode": {
    "name": "ipython",
    "version": 3
   },
   "file_extension": ".py",
   "mimetype": "text/x-python",
   "name": "python",
   "nbconvert_exporter": "python",
   "pygments_lexer": "ipython3",
   "version": "3.7.3"
  }
 },
 "nbformat": 4,
 "nbformat_minor": 2
}
